{
  "nbformat": 4,
  "nbformat_minor": 0,
  "metadata": {
    "colab": {
      "name": " Bengali-handwritten-digit-recognition-with-PyTorch.ipynb",
      "provenance": [],
      "collapsed_sections": []
    },
    "kernelspec": {
      "name": "python3",
      "display_name": "Python 3"
    },
    "language_info": {
      "name": "python"
    }
  },
  "cells": [
    {
      "cell_type": "code",
      "execution_count": 1,
      "metadata": {
        "id": "M12uJ6E7Lpmo"
      },
      "outputs": [],
      "source": [
        "import os\n",
        "from os import path\n",
        "import shutil\n",
        "import time\n",
        "import copy\n",
        "import numpy as np\n",
        "import pandas as pd\n",
        "\n",
        "#Import PyTorch\n",
        "import torch\n",
        "import torch.nn as nn\n",
        "import torch.nn.functional as F\n",
        "import torch.optim as optim\n",
        "from torch.utils.data import Dataset\n",
        "from torch.utils.data.sampler import SubsetRandomSampler\n",
        "from torchvision import datasets, transforms, models\n",
        "\n",
        "#Import Matplotlib\n",
        "import matplotlib\n",
        "import matplotlib.pyplot as plt\n",
        "from PIL import Image"
      ]
    },
    {
      "cell_type": "markdown",
      "source": [
        "# Data Loading and Preprocessing"
      ],
      "metadata": {
        "id": "_7F-ZYyNMFyV"
      }
    },
    {
      "cell_type": "code",
      "source": [
        "from google.colab import drive\n",
        "drive.mount('/content/drive')"
      ],
      "metadata": {
        "id": "NrEJFM3sL8p8",
        "colab": {
          "base_uri": "https://localhost:8080/"
        },
        "outputId": "f1b720e0-e22e-417d-9670-4cb6a3c41bf2"
      },
      "execution_count": 2,
      "outputs": [
        {
          "output_type": "stream",
          "name": "stdout",
          "text": [
            "Mounted at /content/drive\n"
          ]
        }
      ]
    },
    {
      "cell_type": "code",
      "source": [
        "import os\n",
        "os.makedirs(\"dataset/\")"
      ],
      "metadata": {
        "id": "47j6v9OuMNUX"
      },
      "execution_count": 3,
      "outputs": []
    },
    {
      "cell_type": "markdown",
      "source": [
        "##### Unzip"
      ],
      "metadata": {
        "id": "Ixbl9v2eMSEA"
      }
    },
    {
      "cell_type": "code",
      "source": [
        "!unzip /content/drive/MyDrive/Learn_Pytorch/workshop/NUMTA.zip -d /content/dataset/NUMTA"
      ],
      "metadata": {
        "id": "kPQgom6YMZRt"
      },
      "execution_count": null,
      "outputs": []
    },
    {
      "cell_type": "code",
      "source": [
        "# Hyperparameters\n",
        "# shopne pawa value\n",
        "batch_size = 256\n",
        "num_iters = 3200\n",
        "input_shape = 28*28 # num_features = 784\n",
        "output_shape = 10\n",
        "learning_rate = 0.001\n",
        "\n",
        "# Device\n",
        "device = torch.device(\"cuda:0\" if torch.cuda.is_available() else \"cpu\")\n",
        "print(device)"
      ],
      "metadata": {
        "id": "NJ_yfsbhNldf",
        "colab": {
          "base_uri": "https://localhost:8080/"
        },
        "outputId": "d131a836-290b-4f06-889b-a5c35342fa04"
      },
      "execution_count": 8,
      "outputs": [
        {
          "output_type": "stream",
          "name": "stdout",
          "text": [
            "cpu\n"
          ]
        }
      ]
    },
    {
      "cell_type": "code",
      "source": [
        "PATH = 'dataset/NUMTA/'\n",
        "TRAIN_PATH = 'dataset/NUMTA/training-a/'\n",
        "TEST_PATH = 'dataset/NUMTA/testing-all-corrected/testing-a/'\n",
        "os.listdir(PATH)"
      ],
      "metadata": {
        "id": "0QHKx8ifNpuI",
        "colab": {
          "base_uri": "https://localhost:8080/"
        },
        "outputId": "893d4cb2-3a7b-4441-cfd2-74eb35ab7e1f"
      },
      "execution_count": 9,
      "outputs": [
        {
          "output_type": "execute_result",
          "data": {
            "text/plain": [
              "['testing-b',\n",
              " 'training-b',\n",
              " 'testing-d',\n",
              " 'training-b.csv',\n",
              " 'training-c',\n",
              " 'training-e',\n",
              " 'testing-auga',\n",
              " 'testing-c',\n",
              " 'training-d.csv',\n",
              " 'testing-a',\n",
              " 'training-c.csv',\n",
              " 'training-d',\n",
              " 'training-a',\n",
              " 'testing-augc',\n",
              " 'training-e.csv',\n",
              " 'training-a.csv',\n",
              " 'testing-all-corrected',\n",
              " 'testing-f',\n",
              " 'testing-e']"
            ]
          },
          "metadata": {},
          "execution_count": 9
        }
      ]
    },
    {
      "cell_type": "code",
      "source": [
        "class Dataset(Dataset):\n",
        "    def __init__(self, df, root, transform=None):\n",
        "        self.data = df\n",
        "        self.root = root\n",
        "        self.transform = transform\n",
        "        \n",
        "    def __len__(self):\n",
        "        return len(self.data)\n",
        "    \n",
        "    def __getitem__(self, index):\n",
        "        item = self.data.iloc[index]\n",
        "        \n",
        "        path = self.root + \"/\" + item[0]\n",
        "        image = Image.open(path).convert('L') # 'L' mode image means it is a single channel image\n",
        "        label = item[1]\n",
        "        \n",
        "        if self.transform is not None:\n",
        "            image = self.transform(image)\n",
        "            \n",
        "        return image, label"
      ],
      "metadata": {
        "id": "y9HQnM8HSRaM"
      },
      "execution_count": 10,
      "outputs": []
    },
    {
      "cell_type": "code",
      "source": [
        "df = pd.read_csv(PATH + \"training-a.csv\")[['filename', 'digit']]\n",
        "df.head()"
      ],
      "metadata": {
        "id": "63byUqyfS1n2",
        "colab": {
          "base_uri": "https://localhost:8080/",
          "height": 206
        },
        "outputId": "29354b64-d30d-4c37-bcf1-d53e0ea977fe"
      },
      "execution_count": 11,
      "outputs": [
        {
          "output_type": "execute_result",
          "data": {
            "text/plain": [
              "     filename  digit\n",
              "0  a00000.png      5\n",
              "1  a00001.png      3\n",
              "2  a00002.png      1\n",
              "3  a00003.png      7\n",
              "4  a00004.png      0"
            ],
            "text/html": [
              "\n",
              "  <div id=\"df-5dc04e88-5d80-4b67-a5bd-9673fdb12d24\">\n",
              "    <div class=\"colab-df-container\">\n",
              "      <div>\n",
              "<style scoped>\n",
              "    .dataframe tbody tr th:only-of-type {\n",
              "        vertical-align: middle;\n",
              "    }\n",
              "\n",
              "    .dataframe tbody tr th {\n",
              "        vertical-align: top;\n",
              "    }\n",
              "\n",
              "    .dataframe thead th {\n",
              "        text-align: right;\n",
              "    }\n",
              "</style>\n",
              "<table border=\"1\" class=\"dataframe\">\n",
              "  <thead>\n",
              "    <tr style=\"text-align: right;\">\n",
              "      <th></th>\n",
              "      <th>filename</th>\n",
              "      <th>digit</th>\n",
              "    </tr>\n",
              "  </thead>\n",
              "  <tbody>\n",
              "    <tr>\n",
              "      <th>0</th>\n",
              "      <td>a00000.png</td>\n",
              "      <td>5</td>\n",
              "    </tr>\n",
              "    <tr>\n",
              "      <th>1</th>\n",
              "      <td>a00001.png</td>\n",
              "      <td>3</td>\n",
              "    </tr>\n",
              "    <tr>\n",
              "      <th>2</th>\n",
              "      <td>a00002.png</td>\n",
              "      <td>1</td>\n",
              "    </tr>\n",
              "    <tr>\n",
              "      <th>3</th>\n",
              "      <td>a00003.png</td>\n",
              "      <td>7</td>\n",
              "    </tr>\n",
              "    <tr>\n",
              "      <th>4</th>\n",
              "      <td>a00004.png</td>\n",
              "      <td>0</td>\n",
              "    </tr>\n",
              "  </tbody>\n",
              "</table>\n",
              "</div>\n",
              "      <button class=\"colab-df-convert\" onclick=\"convertToInteractive('df-5dc04e88-5d80-4b67-a5bd-9673fdb12d24')\"\n",
              "              title=\"Convert this dataframe to an interactive table.\"\n",
              "              style=\"display:none;\">\n",
              "        \n",
              "  <svg xmlns=\"http://www.w3.org/2000/svg\" height=\"24px\"viewBox=\"0 0 24 24\"\n",
              "       width=\"24px\">\n",
              "    <path d=\"M0 0h24v24H0V0z\" fill=\"none\"/>\n",
              "    <path d=\"M18.56 5.44l.94 2.06.94-2.06 2.06-.94-2.06-.94-.94-2.06-.94 2.06-2.06.94zm-11 1L8.5 8.5l.94-2.06 2.06-.94-2.06-.94L8.5 2.5l-.94 2.06-2.06.94zm10 10l.94 2.06.94-2.06 2.06-.94-2.06-.94-.94-2.06-.94 2.06-2.06.94z\"/><path d=\"M17.41 7.96l-1.37-1.37c-.4-.4-.92-.59-1.43-.59-.52 0-1.04.2-1.43.59L10.3 9.45l-7.72 7.72c-.78.78-.78 2.05 0 2.83L4 21.41c.39.39.9.59 1.41.59.51 0 1.02-.2 1.41-.59l7.78-7.78 2.81-2.81c.8-.78.8-2.07 0-2.86zM5.41 20L4 18.59l7.72-7.72 1.47 1.35L5.41 20z\"/>\n",
              "  </svg>\n",
              "      </button>\n",
              "      \n",
              "  <style>\n",
              "    .colab-df-container {\n",
              "      display:flex;\n",
              "      flex-wrap:wrap;\n",
              "      gap: 12px;\n",
              "    }\n",
              "\n",
              "    .colab-df-convert {\n",
              "      background-color: #E8F0FE;\n",
              "      border: none;\n",
              "      border-radius: 50%;\n",
              "      cursor: pointer;\n",
              "      display: none;\n",
              "      fill: #1967D2;\n",
              "      height: 32px;\n",
              "      padding: 0 0 0 0;\n",
              "      width: 32px;\n",
              "    }\n",
              "\n",
              "    .colab-df-convert:hover {\n",
              "      background-color: #E2EBFA;\n",
              "      box-shadow: 0px 1px 2px rgba(60, 64, 67, 0.3), 0px 1px 3px 1px rgba(60, 64, 67, 0.15);\n",
              "      fill: #174EA6;\n",
              "    }\n",
              "\n",
              "    [theme=dark] .colab-df-convert {\n",
              "      background-color: #3B4455;\n",
              "      fill: #D2E3FC;\n",
              "    }\n",
              "\n",
              "    [theme=dark] .colab-df-convert:hover {\n",
              "      background-color: #434B5C;\n",
              "      box-shadow: 0px 1px 3px 1px rgba(0, 0, 0, 0.15);\n",
              "      filter: drop-shadow(0px 1px 2px rgba(0, 0, 0, 0.3));\n",
              "      fill: #FFFFFF;\n",
              "    }\n",
              "  </style>\n",
              "\n",
              "      <script>\n",
              "        const buttonEl =\n",
              "          document.querySelector('#df-5dc04e88-5d80-4b67-a5bd-9673fdb12d24 button.colab-df-convert');\n",
              "        buttonEl.style.display =\n",
              "          google.colab.kernel.accessAllowed ? 'block' : 'none';\n",
              "\n",
              "        async function convertToInteractive(key) {\n",
              "          const element = document.querySelector('#df-5dc04e88-5d80-4b67-a5bd-9673fdb12d24');\n",
              "          const dataTable =\n",
              "            await google.colab.kernel.invokeFunction('convertToInteractive',\n",
              "                                                     [key], {});\n",
              "          if (!dataTable) return;\n",
              "\n",
              "          const docLinkHtml = 'Like what you see? Visit the ' +\n",
              "            '<a target=\"_blank\" href=https://colab.research.google.com/notebooks/data_table.ipynb>data table notebook</a>'\n",
              "            + ' to learn more about interactive tables.';\n",
              "          element.innerHTML = '';\n",
              "          dataTable['output_type'] = 'display_data';\n",
              "          await google.colab.output.renderOutput(dataTable, element);\n",
              "          const docLink = document.createElement('div');\n",
              "          docLink.innerHTML = docLinkHtml;\n",
              "          element.appendChild(docLink);\n",
              "        }\n",
              "      </script>\n",
              "    </div>\n",
              "  </div>\n",
              "  "
            ]
          },
          "metadata": {},
          "execution_count": 11
        }
      ]
    },
    {
      "cell_type": "code",
      "source": [
        "mean = [0.5,]\n",
        "std = [0.5, ]\n",
        "\n",
        "transform = test_transform = transforms.Compose([\n",
        "        transforms.Resize(28),\n",
        "        transforms.ToTensor(),\n",
        "        transforms.Normalize(mean, std)\n",
        "])"
      ],
      "metadata": {
        "id": "PgsocU5HS8mu"
      },
      "execution_count": 12,
      "outputs": []
    },
    {
      "cell_type": "code",
      "source": [
        "dataset = Dataset(df, TRAIN_PATH, transform)"
      ],
      "metadata": {
        "id": "d34SSq9iTEts"
      },
      "execution_count": 13,
      "outputs": []
    },
    {
      "cell_type": "code",
      "source": [
        "len(dataset)"
      ],
      "metadata": {
        "id": "Ct--MhfvTFsu",
        "colab": {
          "base_uri": "https://localhost:8080/"
        },
        "outputId": "f5aea566-c343-43af-ca02-5a1cb5c418e0"
      },
      "execution_count": 14,
      "outputs": [
        {
          "output_type": "execute_result",
          "data": {
            "text/plain": [
              "19702"
            ]
          },
          "metadata": {},
          "execution_count": 14
        }
      ]
    },
    {
      "cell_type": "markdown",
      "source": [
        "## Data Splitting\n",
        "\n",
        "Training Set, Validation Set, Testing Set"
      ],
      "metadata": {
        "id": "pp5dd9vfUaum"
      }
    },
    {
      "cell_type": "code",
      "source": [
        "# split data 20% for validation\n",
        "val_size = 0.2\n",
        "\n",
        "# obtain training indices that will be used for validation\n",
        "dataset_size = len(dataset)\n",
        "\n",
        "# mix data\n",
        "# indices of all data\n",
        "indices = list(range(dataset_size))\n",
        "\n",
        "# random the index\n",
        "np.random.shuffle(indices)\n",
        "\n",
        "split = int(np.floor(val_size * dataset_size))\n",
        "\n",
        "# divied into two part\n",
        "train_idx, val_idx = indices[split:], indices[:split]"
      ],
      "metadata": {
        "id": "rZTD9tkYUc7d"
      },
      "execution_count": 15,
      "outputs": []
    },
    {
      "cell_type": "code",
      "source": [
        "print(\"Train Samples: \",len(train_idx))\n",
        "print(\"Validation Samples: \",len(val_idx))"
      ],
      "metadata": {
        "colab": {
          "base_uri": "https://localhost:8080/"
        },
        "id": "7OnWWJFoYr4Z",
        "outputId": "727bf845-c37a-4be1-c6ea-72d01d8901c8"
      },
      "execution_count": 28,
      "outputs": [
        {
          "output_type": "stream",
          "name": "stdout",
          "text": [
            "Train Samples:  15762\n",
            "Validation Samples:  3940\n"
          ]
        }
      ]
    },
    {
      "cell_type": "code",
      "source": [
        "show_img = dataset[1][0].numpy().reshape(28, 28)\n",
        "plt.imshow(show_img, cmap='gray')"
      ],
      "metadata": {
        "colab": {
          "base_uri": "https://localhost:8080/",
          "height": 283
        },
        "id": "5J1QZXFKZuDs",
        "outputId": "abc66f4f-03f1-41e1-95a8-5f85eb403934"
      },
      "execution_count": 17,
      "outputs": [
        {
          "output_type": "execute_result",
          "data": {
            "text/plain": [
              "<matplotlib.image.AxesImage at 0x7f1834ff28d0>"
            ]
          },
          "metadata": {},
          "execution_count": 17
        },
        {
          "output_type": "display_data",
          "data": {
            "text/plain": [
              "<Figure size 432x288 with 1 Axes>"
            ],
            "image/png": "[encoded data removed]"
          },
          "metadata": {
            "needs_background": "light"
          }
        }
      ]
    },
    {
      "cell_type": "code",
      "source": [
        "dataset[1][1] #label"
      ],
      "metadata": {
        "colab": {
          "base_uri": "https://localhost:8080/"
        },
        "id": "DBOWtXbEZ4N8",
        "outputId": "3e7feeb7-033b-409a-b1df-f33c3bc4cf0a"
      },
      "execution_count": 18,
      "outputs": [
        {
          "output_type": "execute_result",
          "data": {
            "text/plain": [
              "3"
            ]
          },
          "metadata": {},
          "execution_count": 18
        }
      ]
    },
    {
      "cell_type": "code",
      "source": [
        "# define the sampler\n",
        "train_sampler = SubsetRandomSampler(train_idx)\n",
        "val_sampler = SubsetRandomSampler(val_idx)"
      ],
      "metadata": {
        "id": "oTF-aVdjgaOy"
      },
      "execution_count": 25,
      "outputs": []
    },
    {
      "cell_type": "markdown",
      "source": [
        "## Dataloader\n",
        "Dataloader keeps data manageable and helps to simplify your machine learning pipeline. a Dataset stores all data, and Dataloader is can be used to **iterate** through the data, **manage batches**, **transform** the data, and much more."
      ],
      "metadata": {
        "id": "l_KaOGmIbJCS"
      }
    },
    {
      "cell_type": "code",
      "source": [
        "'''\n",
        "MAKING DATASET ITERABLE\n",
        "'''\n",
        "\n",
        "# prepare loaders\n",
        "train_loader = torch.utils.data.DataLoader(dataset, batch_size=batch_size,sampler=train_sampler)\n",
        "val_loader = torch.utils.data.DataLoader(dataset, batch_size=batch_size, sampler=val_sampler)\n",
        "\n",
        "\n",
        "#Note:\n",
        "#since we already randomly shuffle the index of our sampler. That's why we don't need to pass shuffle=True again here.\n",
        "#otherwise, we need to pass shuffle=True also.\n",
        "#sothat, in each epoch data will be shuffled\n"
      ],
      "metadata": {
        "id": "wlICZJzibS1A"
      },
      "execution_count": 26,
      "outputs": []
    },
    {
      "cell_type": "code",
      "source": [
        "image, label = next(iter(val_loader))\n",
        "image.shape, label.shape\n",
        "\n",
        "# [batch size, number of channel, size, size ]"
      ],
      "metadata": {
        "colab": {
          "base_uri": "https://localhost:8080/"
        },
        "id": "cU-PNbFTdLA8",
        "outputId": "887b7e08-c1e0-4c1f-d7e9-5e4e67b563eb"
      },
      "execution_count": 27,
      "outputs": [
        {
          "output_type": "execute_result",
          "data": {
            "text/plain": [
              "(torch.Size([256, 1, 28, 28]), torch.Size([256]))"
            ]
          },
          "metadata": {},
          "execution_count": 27
        }
      ]
    }
  ]
}