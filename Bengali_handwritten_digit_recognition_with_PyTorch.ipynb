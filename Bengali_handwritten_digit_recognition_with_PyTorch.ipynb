{
  "nbformat": 4,
  "nbformat_minor": 0,
  "metadata": {
    "colab": {
      "name": " Bengali-handwritten-digit-recognition-with-PyTorch.ipynb",
      "provenance": [],
      "collapsed_sections": [],
      "toc_visible": true
    },
    "kernelspec": {
      "name": "python3",
      "display_name": "Python 3"
    },
    "language_info": {
      "name": "python"
    }
  },
  "cells": [
    {
      "cell_type": "code",
      "execution_count": 2,
      "metadata": {
        "id": "M12uJ6E7Lpmo"
      },
      "outputs": [],
      "source": [
        "import os\n",
        "from os import path\n",
        "import shutil\n",
        "import time\n",
        "import copy\n",
        "import numpy as np\n",
        "import pandas as pd\n",
        "\n",
        "#Import PyTorch\n",
        "import torch\n",
        "import torch.nn as nn\n",
        "import torch.nn.functional as F\n",
        "import torch.optim as optim\n",
        "from torch.utils.data import Dataset\n",
        "from torch.utils.data.sampler import SubsetRandomSampler\n",
        "from torchvision import datasets, transforms, models\n",
        "\n",
        "#Import Matplotlib\n",
        "import matplotlib\n",
        "import matplotlib.pyplot as plt\n",
        "from PIL import Image"
      ]
    },
    {
      "cell_type": "markdown",
      "source": [
        "# Data Loading and Preprocessing"
      ],
      "metadata": {
        "id": "_7F-ZYyNMFyV"
      }
    },
    {
      "cell_type": "code",
      "source": [
        "from google.colab import drive\n",
        "drive.mount('/content/drive')"
      ],
      "metadata": {
        "id": "NrEJFM3sL8p8",
        "colab": {
          "base_uri": "https://localhost:8080/"
        },
        "outputId": "7ad03599-b8e9-4c10-bfd9-8a4ceec686f0"
      },
      "execution_count": 3,
      "outputs": [
        {
          "output_type": "stream",
          "name": "stdout",
          "text": [
            "Mounted at /content/drive\n"
          ]
        }
      ]
    },
    {
      "cell_type": "code",
      "source": [
        "import os\n",
        "os.makedirs(\"dataset/\")"
      ],
      "metadata": {
        "id": "47j6v9OuMNUX"
      },
      "execution_count": 4,
      "outputs": []
    },
    {
      "cell_type": "markdown",
      "source": [
        "##### Unzip"
      ],
      "metadata": {
        "id": "Ixbl9v2eMSEA"
      }
    },
    {
      "cell_type": "code",
      "source": [
        "!unzip /content/drive/MyDrive/Learn_Pytorch/workshop/NUMTA.zip -d /content/dataset/NUMTA"
      ],
      "metadata": {
        "id": "kPQgom6YMZRt"
      },
      "execution_count": null,
      "outputs": []
    },
    {
      "cell_type": "code",
      "source": [
        "# Hyperparameters\n",
        "# shopne pawa value\n",
        "batch_size = 256\n",
        "num_iters = 3200\n",
        "input_shape = 28*28 # num_features = 784\n",
        "output_shape = 10\n",
        "learning_rate = 0.001\n",
        "\n",
        "# Device\n",
        "device = torch.device(\"cuda:0\" if torch.cuda.is_available() else \"cpu\")\n",
        "print(device)"
      ],
      "metadata": {
        "id": "NJ_yfsbhNldf",
        "colab": {
          "base_uri": "https://localhost:8080/"
        },
        "outputId": "524e2ab3-5e31-4b98-ea4a-73fffb2a15e6"
      },
      "execution_count": 5,
      "outputs": [
        {
          "output_type": "stream",
          "name": "stdout",
          "text": [
            "cpu\n"
          ]
        }
      ]
    },
    {
      "cell_type": "code",
      "source": [
        "PATH = 'dataset/NUMTA/'\n",
        "TRAIN_PATH = 'dataset/NUMTA/training-a/'\n",
        "TEST_PATH = 'dataset/NUMTA/testing-all-corrected/testing-a/'\n",
        "os.listdir(PATH)"
      ],
      "metadata": {
        "id": "0QHKx8ifNpuI",
        "colab": {
          "base_uri": "https://localhost:8080/"
        },
        "outputId": "2c440a55-dcf2-41cc-9ba6-d36f45bb6364"
      },
      "execution_count": 7,
      "outputs": [
        {
          "output_type": "execute_result",
          "data": {
            "text/plain": [
              "['testing-b',\n",
              " 'training-b',\n",
              " 'testing-d',\n",
              " 'training-b.csv',\n",
              " 'training-c',\n",
              " 'training-e',\n",
              " 'testing-auga',\n",
              " 'testing-c',\n",
              " 'training-d.csv',\n",
              " 'testing-a',\n",
              " 'training-c.csv',\n",
              " 'training-d',\n",
              " 'training-a',\n",
              " 'testing-augc',\n",
              " 'training-e.csv',\n",
              " 'training-a.csv',\n",
              " 'testing-all-corrected',\n",
              " 'testing-f',\n",
              " 'testing-e']"
            ]
          },
          "metadata": {},
          "execution_count": 7
        }
      ]
    },
    {
      "cell_type": "code",
      "source": [
        "class Dataset(Dataset):\n",
        "    def __init__(self, df, root, transform=None):\n",
        "        self.data = df\n",
        "        self.root = root\n",
        "        self.transform = transform\n",
        "        \n",
        "    def __len__(self):\n",
        "        return len(self.data)\n",
        "    \n",
        "    def __getitem__(self, index):\n",
        "        item = self.data.iloc[index]\n",
        "        \n",
        "        path = self.root + \"/\" + item[0]\n",
        "        image = Image.open(path).convert('L') # 'L' mode image means it is a single channel image\n",
        "        label = item[1]\n",
        "        \n",
        "        if self.transform is not None:\n",
        "            image = self.transform(image)\n",
        "            \n",
        "        return image, label"
      ],
      "metadata": {
        "id": "y9HQnM8HSRaM"
      },
      "execution_count": 8,
      "outputs": []
    },
    {
      "cell_type": "code",
      "source": [
        "df = pd.read_csv(PATH + \"training-a.csv\")[['filename', 'digit']]\n",
        "df.head()"
      ],
      "metadata": {
        "id": "63byUqyfS1n2",
        "colab": {
          "base_uri": "https://localhost:8080/",
          "height": 206
        },
        "outputId": "868b838b-f427-42df-decb-dab7d4ebb7ed"
      },
      "execution_count": 9,
      "outputs": [
        {
          "output_type": "execute_result",
          "data": {
            "text/plain": [
              "     filename  digit\n",
              "0  a00000.png      5\n",
              "1  a00001.png      3\n",
              "2  a00002.png      1\n",
              "3  a00003.png      7\n",
              "4  a00004.png      0"
            ],
            "text/html": [
              "\n",
              "  <div id=\"df-68ddb697-5a67-44d8-8f83-d96b9679c7c3\">\n",
              "    <div class=\"colab-df-container\">\n",
              "      <div>\n",
              "<style scoped>\n",
              "    .dataframe tbody tr th:only-of-type {\n",
              "        vertical-align: middle;\n",
              "    }\n",
              "\n",
              "    .dataframe tbody tr th {\n",
              "        vertical-align: top;\n",
              "    }\n",
              "\n",
              "    .dataframe thead th {\n",
              "        text-align: right;\n",
              "    }\n",
              "</style>\n",
              "<table border=\"1\" class=\"dataframe\">\n",
              "  <thead>\n",
              "    <tr style=\"text-align: right;\">\n",
              "      <th></th>\n",
              "      <th>filename</th>\n",
              "      <th>digit</th>\n",
              "    </tr>\n",
              "  </thead>\n",
              "  <tbody>\n",
              "    <tr>\n",
              "      <th>0</th>\n",
              "      <td>a00000.png</td>\n",
              "      <td>5</td>\n",
              "    </tr>\n",
              "    <tr>\n",
              "      <th>1</th>\n",
              "      <td>a00001.png</td>\n",
              "      <td>3</td>\n",
              "    </tr>\n",
              "    <tr>\n",
              "      <th>2</th>\n",
              "      <td>a00002.png</td>\n",
              "      <td>1</td>\n",
              "    </tr>\n",
              "    <tr>\n",
              "      <th>3</th>\n",
              "      <td>a00003.png</td>\n",
              "      <td>7</td>\n",
              "    </tr>\n",
              "    <tr>\n",
              "      <th>4</th>\n",
              "      <td>a00004.png</td>\n",
              "      <td>0</td>\n",
              "    </tr>\n",
              "  </tbody>\n",
              "</table>\n",
              "</div>\n",
              "      <button class=\"colab-df-convert\" onclick=\"convertToInteractive('df-68ddb697-5a67-44d8-8f83-d96b9679c7c3')\"\n",
              "              title=\"Convert this dataframe to an interactive table.\"\n",
              "              style=\"display:none;\">\n",
              "        \n",
              "  <svg xmlns=\"http://www.w3.org/2000/svg\" height=\"24px\"viewBox=\"0 0 24 24\"\n",
              "       width=\"24px\">\n",
              "    <path d=\"M0 0h24v24H0V0z\" fill=\"none\"/>\n",
              "    <path d=\"M18.56 5.44l.94 2.06.94-2.06 2.06-.94-2.06-.94-.94-2.06-.94 2.06-2.06.94zm-11 1L8.5 8.5l.94-2.06 2.06-.94-2.06-.94L8.5 2.5l-.94 2.06-2.06.94zm10 10l.94 2.06.94-2.06 2.06-.94-2.06-.94-.94-2.06-.94 2.06-2.06.94z\"/><path d=\"M17.41 7.96l-1.37-1.37c-.4-.4-.92-.59-1.43-.59-.52 0-1.04.2-1.43.59L10.3 9.45l-7.72 7.72c-.78.78-.78 2.05 0 2.83L4 21.41c.39.39.9.59 1.41.59.51 0 1.02-.2 1.41-.59l7.78-7.78 2.81-2.81c.8-.78.8-2.07 0-2.86zM5.41 20L4 18.59l7.72-7.72 1.47 1.35L5.41 20z\"/>\n",
              "  </svg>\n",
              "      </button>\n",
              "      \n",
              "  <style>\n",
              "    .colab-df-container {\n",
              "      display:flex;\n",
              "      flex-wrap:wrap;\n",
              "      gap: 12px;\n",
              "    }\n",
              "\n",
              "    .colab-df-convert {\n",
              "      background-color: #E8F0FE;\n",
              "      border: none;\n",
              "      border-radius: 50%;\n",
              "      cursor: pointer;\n",
              "      display: none;\n",
              "      fill: #1967D2;\n",
              "      height: 32px;\n",
              "      padding: 0 0 0 0;\n",
              "      width: 32px;\n",
              "    }\n",
              "\n",
              "    .colab-df-convert:hover {\n",
              "      background-color: #E2EBFA;\n",
              "      box-shadow: 0px 1px 2px rgba(60, 64, 67, 0.3), 0px 1px 3px 1px rgba(60, 64, 67, 0.15);\n",
              "      fill: #174EA6;\n",
              "    }\n",
              "\n",
              "    [theme=dark] .colab-df-convert {\n",
              "      background-color: #3B4455;\n",
              "      fill: #D2E3FC;\n",
              "    }\n",
              "\n",
              "    [theme=dark] .colab-df-convert:hover {\n",
              "      background-color: #434B5C;\n",
              "      box-shadow: 0px 1px 3px 1px rgba(0, 0, 0, 0.15);\n",
              "      filter: drop-shadow(0px 1px 2px rgba(0, 0, 0, 0.3));\n",
              "      fill: #FFFFFF;\n",
              "    }\n",
              "  </style>\n",
              "\n",
              "      <script>\n",
              "        const buttonEl =\n",
              "          document.querySelector('#df-68ddb697-5a67-44d8-8f83-d96b9679c7c3 button.colab-df-convert');\n",
              "        buttonEl.style.display =\n",
              "          google.colab.kernel.accessAllowed ? 'block' : 'none';\n",
              "\n",
              "        async function convertToInteractive(key) {\n",
              "          const element = document.querySelector('#df-68ddb697-5a67-44d8-8f83-d96b9679c7c3');\n",
              "          const dataTable =\n",
              "            await google.colab.kernel.invokeFunction('convertToInteractive',\n",
              "                                                     [key], {});\n",
              "          if (!dataTable) return;\n",
              "\n",
              "          const docLinkHtml = 'Like what you see? Visit the ' +\n",
              "            '<a target=\"_blank\" href=https://colab.research.google.com/notebooks/data_table.ipynb>data table notebook</a>'\n",
              "            + ' to learn more about interactive tables.';\n",
              "          element.innerHTML = '';\n",
              "          dataTable['output_type'] = 'display_data';\n",
              "          await google.colab.output.renderOutput(dataTable, element);\n",
              "          const docLink = document.createElement('div');\n",
              "          docLink.innerHTML = docLinkHtml;\n",
              "          element.appendChild(docLink);\n",
              "        }\n",
              "      </script>\n",
              "    </div>\n",
              "  </div>\n",
              "  "
            ]
          },
          "metadata": {},
          "execution_count": 9
        }
      ]
    },
    {
      "cell_type": "code",
      "source": [
        "mean = [0.5,]\n",
        "std = [0.5, ]\n",
        "\n",
        "transform = test_transform = transforms.Compose([\n",
        "        transforms.Resize(28),\n",
        "        transforms.ToTensor(),\n",
        "        transforms.Normalize(mean, std)\n",
        "])"
      ],
      "metadata": {
        "id": "PgsocU5HS8mu"
      },
      "execution_count": 10,
      "outputs": []
    },
    {
      "cell_type": "code",
      "source": [
        "dataset = Dataset(df, TRAIN_PATH, transform)"
      ],
      "metadata": {
        "id": "d34SSq9iTEts"
      },
      "execution_count": 11,
      "outputs": []
    },
    {
      "cell_type": "code",
      "source": [
        "len(dataset)"
      ],
      "metadata": {
        "id": "Ct--MhfvTFsu",
        "colab": {
          "base_uri": "https://localhost:8080/"
        },
        "outputId": "1a1e2b90-49be-4f03-c79e-046344cb8066"
      },
      "execution_count": 12,
      "outputs": [
        {
          "output_type": "execute_result",
          "data": {
            "text/plain": [
              "19702"
            ]
          },
          "metadata": {},
          "execution_count": 12
        }
      ]
    },
    {
      "cell_type": "markdown",
      "source": [
        "## Data Splitting\n",
        "\n",
        "Training Set, Validation Set, Testing Set"
      ],
      "metadata": {
        "id": "pp5dd9vfUaum"
      }
    },
    {
      "cell_type": "code",
      "source": [
        "# split data 20% for validation\n",
        "val_size = 0.2\n",
        "\n",
        "# obtain training indices that will be used for validation\n",
        "dataset_size = len(dataset)\n",
        "\n",
        "# mix data\n",
        "# indices of all data\n",
        "indices = list(range(dataset_size))\n",
        "\n",
        "# random the index\n",
        "np.random.shuffle(indices)\n",
        "\n",
        "split = int(np.floor(val_size * dataset_size))\n",
        "\n",
        "# divied into two part\n",
        "train_idx, val_idx = indices[split:], indices[:split]"
      ],
      "metadata": {
        "id": "rZTD9tkYUc7d"
      },
      "execution_count": 13,
      "outputs": []
    },
    {
      "cell_type": "code",
      "source": [
        "print(\"Train Samples: \",len(train_idx))\n",
        "print(\"Validation Samples: \",len(val_idx))"
      ],
      "metadata": {
        "colab": {
          "base_uri": "https://localhost:8080/"
        },
        "id": "7OnWWJFoYr4Z",
        "outputId": "5eb2b178-3a4e-40c0-beeb-39bf8ca48afb"
      },
      "execution_count": 14,
      "outputs": [
        {
          "output_type": "stream",
          "name": "stdout",
          "text": [
            "Train Samples:  15762\n",
            "Validation Samples:  3940\n"
          ]
        }
      ]
    },
    {
      "cell_type": "code",
      "source": [
        "show_img = dataset[1][0].numpy().reshape(28, 28)\n",
        "plt.imshow(show_img, cmap='gray')"
      ],
      "metadata": {
        "colab": {
          "base_uri": "https://localhost:8080/",
          "height": 283
        },
        "id": "5J1QZXFKZuDs",
        "outputId": "81576ba9-07bc-4f08-c99e-c0f9d58bcb2b"
      },
      "execution_count": 15,
      "outputs": [
        {
          "output_type": "execute_result",
          "data": {
            "text/plain": [
              "<matplotlib.image.AxesImage at 0x7f843a0a37d0>"
            ]
          },
          "metadata": {},
          "execution_count": 15
        },
        {
          "output_type": "display_data",
          "data": {
            "text/plain": [
              "<Figure size 432x288 with 1 Axes>"
            ],
            "image/png": "[encoded data removed]"
          },
          "metadata": {
            "needs_background": "light"
          }
        }
      ]
    },
    {
      "cell_type": "code",
      "source": [
        "dataset[1][1] #label"
      ],
      "metadata": {
        "colab": {
          "base_uri": "https://localhost:8080/"
        },
        "id": "DBOWtXbEZ4N8",
        "outputId": "de34e995-de25-423e-fb31-6cc77b2a4d4f"
      },
      "execution_count": 16,
      "outputs": [
        {
          "output_type": "execute_result",
          "data": {
            "text/plain": [
              "3"
            ]
          },
          "metadata": {},
          "execution_count": 16
        }
      ]
    },
    {
      "cell_type": "code",
      "source": [
        "# define the sampler\n",
        "train_sampler = SubsetRandomSampler(train_idx)\n",
        "val_sampler = SubsetRandomSampler(val_idx)"
      ],
      "metadata": {
        "id": "oTF-aVdjgaOy"
      },
      "execution_count": 17,
      "outputs": []
    },
    {
      "cell_type": "markdown",
      "source": [
        "## Dataloader\n",
        "Dataloader keeps data manageable and helps to simplify your machine learning pipeline. a Dataset stores all data, and Dataloader is can be used to **iterate** through the data, **manage batches**, **transform** the data, and much more."
      ],
      "metadata": {
        "id": "l_KaOGmIbJCS"
      }
    },
    {
      "cell_type": "code",
      "source": [
        "'''\n",
        "MAKING DATASET ITERABLE\n",
        "'''\n",
        "\n",
        "# prepare loaders\n",
        "train_loader = torch.utils.data.DataLoader(dataset, batch_size=batch_size,sampler=train_sampler)\n",
        "val_loader = torch.utils.data.DataLoader(dataset, batch_size=batch_size, sampler=val_sampler)\n",
        "\n",
        "\n",
        "#Note:\n",
        "#since we already randomly shuffle the index of our sampler. That's why we don't need to pass shuffle=True again here.\n",
        "#otherwise, we need to pass shuffle=True also.\n",
        "#sothat, in each epoch data will be shuffled\n"
      ],
      "metadata": {
        "id": "wlICZJzibS1A"
      },
      "execution_count": 18,
      "outputs": []
    },
    {
      "cell_type": "code",
      "source": [
        "image, label = next(iter(val_loader))\n",
        "image.shape, label.shape\n",
        "\n",
        "# [batch size, number of channel, size, size ]"
      ],
      "metadata": {
        "colab": {
          "base_uri": "https://localhost:8080/"
        },
        "id": "cU-PNbFTdLA8",
        "outputId": "31c0f957-6481-43f4-b53a-cf38d54c647d"
      },
      "execution_count": 19,
      "outputs": [
        {
          "output_type": "execute_result",
          "data": {
            "text/plain": [
              "(torch.Size([256, 1, 28, 28]), torch.Size([256]))"
            ]
          },
          "metadata": {},
          "execution_count": 19
        }
      ]
    },
    {
      "cell_type": "markdown",
      "source": [
        "# FCN Model"
      ],
      "metadata": {
        "id": "V-KTQ2TXUx07"
      }
    },
    {
      "cell_type": "code",
      "source": [
        "class FC(nn.Module):\n",
        "    def __init__(self, input_size, num_classes):\n",
        "        super().__init__()\n",
        "        self.fc1 = nn.Linear(input_size, 512)    #Input Layer\n",
        "        self.fc2 = nn.Linear(512, 256)          #Hidden Layer\n",
        "        self.fc3 = nn.Linear(256, 128)          #Hidden Layer\n",
        "        self.fc4 = nn.Linear(128, num_classes)   #Output Layer\n",
        "\n",
        "    def forward(self, x):\n",
        "        x = x.view(x.shape[0], -1)\n",
        "        x = F.relu(self.fc1(x))\n",
        "        x = F.relu(self.fc2(x))\n",
        "        x = F.relu(self.fc3(x))\n",
        "        \n",
        "        # probas = F.log_softmax(self.fc4(x), dim=1)\n",
        "        logits = self.fc4(x)  #logits are output without activation function like softmax/sigmoid\n",
        "        \n",
        "        return logits"
      ],
      "metadata": {
        "id": "bM18Kbb1Uy1K"
      },
      "execution_count": 20,
      "outputs": []
    },
    {
      "cell_type": "code",
      "source": [
        "'''\n",
        "INSTANTIATE MODEL CLASS\n",
        "'''\n",
        "\n",
        "model = FC(input_size=input_shape, num_classes=output_shape)\n",
        "\n",
        "# To enable GPU\n",
        "model.to(device)"
      ],
      "metadata": {
        "colab": {
          "base_uri": "https://localhost:8080/"
        },
        "id": "JJ6VpetpVmEj",
        "outputId": "b17a79ae-0d2f-4ecf-96eb-12baa3d0227a"
      },
      "execution_count": 21,
      "outputs": [
        {
          "output_type": "execute_result",
          "data": {
            "text/plain": [
              "FC(\n",
              "  (fc1): Linear(in_features=784, out_features=512, bias=True)\n",
              "  (fc2): Linear(in_features=512, out_features=256, bias=True)\n",
              "  (fc3): Linear(in_features=256, out_features=128, bias=True)\n",
              "  (fc4): Linear(in_features=128, out_features=10, bias=True)\n",
              ")"
            ]
          },
          "metadata": {},
          "execution_count": 21
        }
      ]
    },
    {
      "cell_type": "markdown",
      "source": [
        "## Optimizer and Loss Function"
      ],
      "metadata": {
        "id": "mbcBRd_2WXEZ"
      }
    },
    {
      "cell_type": "code",
      "source": [
        "# INSTANTIATE OPTIMIZER CLASS\n",
        "optimizer1 = torch.optim.Adam(model.parameters(), lr=learning_rate)\n",
        "criterion1 = nn.CrossEntropyLoss()"
      ],
      "metadata": {
        "id": "G3zKBlgaWYGR"
      },
      "execution_count": 22,
      "outputs": []
    },
    {
      "cell_type": "markdown",
      "source": [
        "## Batch Size, Epochs, Iterations"
      ],
      "metadata": {
        "id": "fiWqIacIWapS"
      }
    },
    {
      "cell_type": "code",
      "source": [
        "num_batches = (len(train_idx) / batch_size)\n",
        "num_epochs = num_iters / num_batches\n",
        "num_epochs = int(num_epochs)\n",
        "\n",
        "print(f'Total Epochs: {num_epochs}')"
      ],
      "metadata": {
        "colab": {
          "base_uri": "https://localhost:8080/"
        },
        "id": "GIHK0lscWgYv",
        "outputId": "a2b9ad84-39d8-4159-f76f-21e2eb8d69a6"
      },
      "execution_count": 23,
      "outputs": [
        {
          "output_type": "stream",
          "name": "stdout",
          "text": [
            "Total Epochs: 51\n"
          ]
        }
      ]
    },
    {
      "cell_type": "code",
      "source": [
        "dataloaders = {'train': train_loader, 'val': val_loader}\n",
        "dataset_sizes = {'train': len(train_idx), 'val': len(val_idx)}"
      ],
      "metadata": {
        "id": "FCqxeB3MC9C2"
      },
      "execution_count": 26,
      "outputs": []
    },
    {
      "cell_type": "markdown",
      "source": [
        "# Training"
      ],
      "metadata": {
        "id": "Thlv6P9A7_Wn"
      }
    },
    {
      "cell_type": "code",
      "source": [
        "def train_model(model, criterion, optimizer, num_epochs=25):\n",
        "    since = time.time()\n",
        "\n",
        "    all_train_loss = []\n",
        "    all_val_loss = []\n",
        "    all_train_acc = []\n",
        "    all_val_acc = []\n",
        "    best_model_wts = copy.deepcopy(model.state_dict())\n",
        "    best_acc = 0.0\n",
        "\n",
        "    for epoch in range(0, num_epochs):\n",
        "        print('Epoch {}/{}'.format(epoch, num_epochs - 1))\n",
        "        print('-' * 10)\n",
        "\n",
        "        # Each epoch has a training and validation phase\n",
        "        for phase in ['train', 'val']:\n",
        "            if phase == 'train':\n",
        "                model.train()  # Set model to training mode\n",
        "            else:\n",
        "                model.eval()   # Set model to evaluate mode\n",
        "\n",
        "            running_loss = 0.0\n",
        "            running_corrects = 0\n",
        "\n",
        "            # Iterate over data.\n",
        "            for inputs, labels in dataloaders[phase]:\n",
        "                inputs = inputs.to(device)\n",
        "                labels = labels.to(device)\n",
        "\n",
        "                # forward\n",
        "                # track history if only in train\n",
        "                with torch.set_grad_enabled(phase == 'train'):\n",
        "                    outputs = model(inputs)\n",
        "                    _, preds = torch.max(outputs, 1)\n",
        "                    loss = criterion(outputs, labels)\n",
        "\n",
        "                    # backward + optimize only if in training phase\n",
        "                    if phase == 'train':\n",
        "                        \n",
        "                        loss.backward() #calculate gradients\n",
        "                        optimizer.step() # weights_update \n",
        "                        optimizer.zero_grad() #prevents of accumulation gradients\n",
        "\n",
        "                # statistics\n",
        "                running_loss += loss.item() * inputs.size(0)\n",
        "                running_corrects += torch.sum(preds == labels.data)\n",
        "\n",
        "            epoch_loss = running_loss / dataset_sizes[phase]\n",
        "            epoch_acc = running_corrects.double() / dataset_sizes[phase]\n",
        "\n",
        "            if phase == 'train':\n",
        "              all_train_loss.append(epoch_loss)\n",
        "              all_train_acc.append(epoch_acc.item())\n",
        "            elif phase == 'val':\n",
        "              all_val_loss.append(epoch_loss)\n",
        "              all_val_acc.append(epoch_acc.item())              \n",
        "\n",
        "            print('{} Loss: {:.4f} Acc: {:.4f}'.format(\n",
        "                phase, epoch_loss, epoch_acc))\n",
        "\n",
        "            # deep copy the model\n",
        "            if phase == 'val' and epoch_acc > best_acc:\n",
        "                best_acc = epoch_acc\n",
        "                best_model_wts = copy.deepcopy(model.state_dict())\n",
        "\n",
        "        print()\n",
        "\n",
        "    time_elapsed = time.time() - since\n",
        "    print('Training complete in {:.0f}m {:.0f}s'.format(\n",
        "        time_elapsed // 60, time_elapsed % 60))\n",
        "    print('Best val Acc: {:4f}'.format(best_acc))\n",
        "\n",
        "    # load best model weights\n",
        "    model.load_state_dict(best_model_wts)\n",
        "\n",
        "    # plotting the training and validation loss\n",
        "    fig, axs = plt.subplots(1,2, figsize=(12,6))\n",
        "    axs[0].plot(all_train_loss, label='Training loss')\n",
        "    axs[0].plot(all_val_loss, label='Validation loss')\n",
        "    axs[0].set_label(\"Training VS. Validation Loss\")\n",
        "    axs[0].set(xlabel=\"Epochs\", ylabel=\"Loss\")\n",
        "    # plotting the training and validation accuracy\n",
        "    axs[1].plot(all_train_acc, label='Training accuracyc')\n",
        "    axs[1].plot(all_val_acc, label='Validation accuracy')\n",
        "    axs[1].set_label(\"Training VS. Validation Accuracy\")\n",
        "    axs[1].set(xlabel=\"Epochs\", ylabel=\"Accuracy\")\n",
        "\n",
        "    axs[0].legend()\n",
        "    axs[1].legend()\n",
        "\n",
        "    # fig.tight_layout()\n",
        "    plt.show()    \n",
        "    return model"
      ],
      "metadata": {
        "id": "-utvDKxM8AfP"
      },
      "execution_count": 27,
      "outputs": []
    },
    {
      "cell_type": "markdown",
      "source": [
        "### Training FCN"
      ],
      "metadata": {
        "id": "9PKk8cFd8MDn"
      }
    },
    {
      "cell_type": "code",
      "source": [
        "model = train_model(model, criterion1 , optimizer1, num_epochs=25)"
      ],
      "metadata": {
        "colab": {
          "base_uri": "https://localhost:8080/",
          "height": 1000
        },
        "id": "lbxdvzq68M-9",
        "outputId": "e02949a1-6793-4cb9-8a06-2919ad7400cb"
      },
      "execution_count": 29,
      "outputs": [
        {
          "output_type": "stream",
          "name": "stdout",
          "text": [
            "Epoch 0/24\n",
            "----------\n",
            "train Loss: 2.3012 Acc: 0.1093\n",
            "val Loss: 2.2970 Acc: 0.0982\n",
            "\n",
            "Epoch 1/24\n",
            "----------\n",
            "train Loss: 2.2374 Acc: 0.1667\n",
            "val Loss: 2.2152 Acc: 0.1574\n",
            "\n",
            "Epoch 2/24\n",
            "----------\n",
            "train Loss: 2.0648 Acc: 0.2659\n",
            "val Loss: 2.0701 Acc: 0.2135\n",
            "\n",
            "Epoch 3/24\n",
            "----------\n",
            "train Loss: 1.8744 Acc: 0.3361\n",
            "val Loss: 1.7759 Acc: 0.3566\n",
            "\n",
            "Epoch 4/24\n",
            "----------\n",
            "train Loss: 1.6846 Acc: 0.4105\n",
            "val Loss: 1.6383 Acc: 0.4368\n",
            "\n",
            "Epoch 5/24\n",
            "----------\n",
            "train Loss: 1.5789 Acc: 0.4413\n",
            "val Loss: 1.5153 Acc: 0.4802\n",
            "\n",
            "Epoch 6/24\n",
            "----------\n",
            "train Loss: 1.4831 Acc: 0.4786\n",
            "val Loss: 1.5466 Acc: 0.4543\n",
            "\n",
            "Epoch 7/24\n",
            "----------\n",
            "train Loss: 1.5244 Acc: 0.4542\n",
            "val Loss: 1.3888 Acc: 0.5320\n",
            "\n",
            "Epoch 8/24\n",
            "----------\n",
            "train Loss: 1.4105 Acc: 0.4973\n",
            "val Loss: 1.3526 Acc: 0.5315\n",
            "\n",
            "Epoch 9/24\n",
            "----------\n",
            "train Loss: 1.3309 Acc: 0.5373\n",
            "val Loss: 1.3254 Acc: 0.5391\n",
            "\n",
            "Epoch 10/24\n",
            "----------\n",
            "train Loss: 1.2867 Acc: 0.5582\n",
            "val Loss: 1.3343 Acc: 0.5317\n",
            "\n",
            "Epoch 11/24\n",
            "----------\n",
            "train Loss: 1.3097 Acc: 0.5422\n",
            "val Loss: 1.1790 Acc: 0.6104\n",
            "\n",
            "Epoch 12/24\n",
            "----------\n",
            "train Loss: 1.1873 Acc: 0.5986\n",
            "val Loss: 1.2068 Acc: 0.5975\n",
            "\n",
            "Epoch 13/24\n",
            "----------\n",
            "train Loss: 1.1454 Acc: 0.6131\n",
            "val Loss: 1.0941 Acc: 0.6388\n",
            "\n",
            "Epoch 14/24\n",
            "----------\n",
            "train Loss: 1.1212 Acc: 0.6226\n",
            "val Loss: 1.0816 Acc: 0.6449\n",
            "\n",
            "Epoch 15/24\n",
            "----------\n",
            "train Loss: 1.0955 Acc: 0.6302\n",
            "val Loss: 1.0551 Acc: 0.6586\n",
            "\n",
            "Epoch 16/24\n",
            "----------\n",
            "train Loss: 1.1458 Acc: 0.6091\n",
            "val Loss: 1.6492 Acc: 0.4459\n",
            "\n",
            "Epoch 17/24\n",
            "----------\n",
            "train Loss: 1.0798 Acc: 0.6391\n",
            "val Loss: 1.0280 Acc: 0.6660\n",
            "\n",
            "Epoch 18/24\n",
            "----------\n",
            "train Loss: 1.0290 Acc: 0.6591\n",
            "val Loss: 1.0135 Acc: 0.6668\n",
            "\n",
            "Epoch 19/24\n",
            "----------\n",
            "train Loss: 1.0031 Acc: 0.6691\n",
            "val Loss: 1.0693 Acc: 0.6426\n",
            "\n",
            "Epoch 20/24\n",
            "----------\n",
            "train Loss: 0.9991 Acc: 0.6680\n",
            "val Loss: 1.3658 Acc: 0.5378\n",
            "\n",
            "Epoch 21/24\n",
            "----------\n",
            "train Loss: 0.9596 Acc: 0.6844\n",
            "val Loss: 0.9398 Acc: 0.7013\n",
            "\n",
            "Epoch 22/24\n",
            "----------\n",
            "train Loss: 0.9694 Acc: 0.6718\n",
            "val Loss: 0.9501 Acc: 0.6924\n",
            "\n",
            "Epoch 23/24\n",
            "----------\n",
            "train Loss: 0.8956 Acc: 0.7023\n",
            "val Loss: 1.0544 Acc: 0.6442\n",
            "\n",
            "Epoch 24/24\n",
            "----------\n",
            "train Loss: 0.9303 Acc: 0.6905\n",
            "val Loss: 0.9885 Acc: 0.6779\n",
            "\n",
            "Training complete in 24m 48s\n",
            "Best val Acc: 0.701269\n"
          ]
        },
        {
          "output_type": "display_data",
          "data": {
            "text/plain": [
              "<Figure size 864x432 with 2 Axes>"
            ],
            "image/png": "[encoded data removed]"
          },
          "metadata": {
            "needs_background": "light"
          }
        }
      ]
    },
    {
      "cell_type": "markdown",
      "source": [
        "## Evaluating Classwise Performance"
      ],
      "metadata": {
        "id": "LuuxcrdUFNiD"
      }
    },
    {
      "cell_type": "code",
      "source": [
        "classes = np.arange(0,10)\n",
        "classes"
      ],
      "metadata": {
        "colab": {
          "base_uri": "https://localhost:8080/"
        },
        "id": "h5N6laejFOp6",
        "outputId": "bf461671-b0c4-4787-be67-e0cfb980b01f"
      },
      "execution_count": 31,
      "outputs": [
        {
          "output_type": "execute_result",
          "data": {
            "text/plain": [
              "array([0, 1, 2, 3, 4, 5, 6, 7, 8, 9])"
            ]
          },
          "metadata": {},
          "execution_count": 31
        }
      ]
    },
    {
      "cell_type": "markdown",
      "source": [
        "### FCN"
      ],
      "metadata": {
        "id": "LpHPy_eaFTct"
      }
    },
    {
      "cell_type": "code",
      "source": [
        "with torch.no_grad():\n",
        "    n_correct = 0\n",
        "    n_samples = 0\n",
        "    n_class_correct = [0 for i in range(10)]\n",
        "    n_class_samples = [0 for i in range(10)]\n",
        "    for images, labels in val_loader:\n",
        "        images = images.to(device)\n",
        "        labels = labels.to(device)\n",
        "        outputs = model(images)\n",
        "        # max returns (value ,index)\n",
        "        _, predicted = torch.max(outputs, 1)\n",
        "        n_samples += labels.size(0)\n",
        "        n_correct += (predicted == labels).sum().item()\n",
        "        \n",
        "        for i in range(len(labels)):\n",
        "            label = labels[i]\n",
        "            pred = predicted[i]\n",
        "            if (label == pred):\n",
        "                n_class_correct[label] += 1\n",
        "            n_class_samples[label] += 1\n",
        "\n",
        "    acc = 100.0 * n_correct / n_samples\n",
        "    print(f'Accuracy of the network: {acc} %')\n",
        "\n",
        "    for i in range(10):\n",
        "        acc = 100.0 * n_class_correct[i] / n_class_samples[i]\n",
        "        print(f'Accuracy of {classes[i]}: {acc} %')"
      ],
      "metadata": {
        "colab": {
          "base_uri": "https://localhost:8080/"
        },
        "id": "QCZVKoK7FW5S",
        "outputId": "17c5d420-a9c3-40bb-e1b0-69fe747b6279"
      },
      "execution_count": 32,
      "outputs": [
        {
          "output_type": "stream",
          "name": "stdout",
          "text": [
            "Accuracy of the network: 70.1269035532995 %\n",
            "Accuracy of 0: 68.02030456852792 %\n",
            "Accuracy of 1: 64.73551637279597 %\n",
            "Accuracy of 2: 84.69135802469135 %\n",
            "Accuracy of 3: 79.01234567901234 %\n",
            "Accuracy of 4: 90.02375296912113 %\n",
            "Accuracy of 5: 63.63636363636363 %\n",
            "Accuracy of 6: 93.2975871313673 %\n",
            "Accuracy of 7: 65.60846560846561 %\n",
            "Accuracy of 8: 63.44647519582245 %\n",
            "Accuracy of 9: 27.061855670103093 %\n"
          ]
        }
      ]
    }
  ]
}